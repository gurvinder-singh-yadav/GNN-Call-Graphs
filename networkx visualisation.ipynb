{
 "cells": [
  {
   "cell_type": "code",
   "execution_count": null,
   "id": "ce80cafd",
   "metadata": {},
   "outputs": [],
   "source": []
  }
 ],
 "metadata": {
  "kernelspec": {
   "display_name": "Python 3.10.6 ('torch-gnn')",
   "language": "python",
   "name": "python3"
  },
  "language_info": {
   "codemirror_mode": {
    "name": "ipython",
    "version": 3
   },
   "file_extension": ".py",
   "mimetype": "text/x-python",
   "name": "python",
   "nbconvert_exporter": "python",
   "pygments_lexer": "ipython3",
   "version": "3.10.6"
  },
  "vscode": {
   "interpreter": {
    "hash": "e159924b748069c45d742299d70538f6e69233800954821c90be239c357cb0a9"
   }
  }
 },
 "nbformat": 4,
 "nbformat_minor": 5
}
