{
 "cells": [
  {
   "cell_type": "code",
   "execution_count": 3,
   "id": "4490f2af-cc2e-4ac6-8797-5e925b3a5947",
   "metadata": {},
   "outputs": [],
   "source": [
    "import os\n",
    "import pandas\n",
    "import regex as re\n",
    "import time\n",
    "from tqdm import tnrange, tqdm_notebook\n",
    "import tqdm\n",
    "import numpy\n",
    "import torch\n",
    "from scipy.sparse import coo_matrix"
   ]
  },
  {
   "cell_type": "code",
   "execution_count": 4,
   "id": "6fec796f-b37b-4b58-9236-edb81331283b",
   "metadata": {},
   "outputs": [
    {
     "data": {
      "text/plain": [
       "'/home/guru/Desktop/GNN-Call-Graphs/raw_name'"
      ]
     },
     "execution_count": 4,
     "metadata": {},
     "output_type": "execute_result"
    }
   ],
   "source": [
    "path = os.getcwd() + '/raw_name'\n",
    "path"
   ]
  },
  {
   "cell_type": "code",
   "execution_count": 5,
   "id": "fc417753-de76-4a38-96bf-387054eb0794",
   "metadata": {},
   "outputs": [
    {
     "name": "stdout",
     "output_type": "stream",
     "text": [
      "['Readme.md', 'construction.ipynb', 'Dataset', '.ipynb_checkpoints', 'raw_name', 'test.py', '.git', 'GCN - Approach 1.py', '.idea', 'train.py', 'tensorflow-env.yaml', 'results - 1 AUC curve.txt', 'networkx visualisation.ipynb', 'torch-env.yaml']\n"
     ]
    }
   ],
   "source": [
    "print(os.listdir())"
   ]
  },
  {
   "cell_type": "code",
   "execution_count": 6,
   "id": "c95c6694-cc2f-40ec-9891-fffe2984cacb",
   "metadata": {},
   "outputs": [],
   "source": [
    "# file = open('new.txt', 'w')\n",
    "# data = 'a \\n b \\n c'\n",
    "# file.writelines(data)\n",
    "# file.close()\n",
    "# file = open('new.txt', 'r')\n",
    "# print(file.read())"
   ]
  },
  {
   "cell_type": "code",
   "execution_count": 7,
   "id": "acbdf798-e047-473b-b49e-9624212d39fc",
   "metadata": {},
   "outputs": [
    {
     "data": {
      "text/plain": [
       "'/home/guru/Desktop/GNN-Call-Graphs/raw_name'"
      ]
     },
     "execution_count": 7,
     "metadata": {},
     "output_type": "execute_result"
    }
   ],
   "source": [
    "path"
   ]
  },
  {
   "cell_type": "code",
   "execution_count": 8,
   "id": "7b8dc932-6b57-4a93-8da3-5cdb30ae969b",
   "metadata": {},
   "outputs": [],
   "source": [
    "os.chdir(path)\n",
    "df = []\n",
    "def read_text_file(file_path):\n",
    "    file = open(file_path, 'r')\n",
    "    for line in file:\n",
    "        df.append(line)\n",
    "  \n",
    "  \n",
    "# iterate through all file\n",
    "for file in os.listdir():\n",
    "    # Check whether file is in text format or not\n",
    "    if file.endswith(\".txt\"):\n",
    "        file_path = f\"{path}/{file}\"\n",
    "  \n",
    "        # call read text file function\n",
    "        read_text_file(file_path)"
   ]
  },
  {
   "cell_type": "code",
   "execution_count": 9,
   "id": "555f55ff-cb6d-4560-a64c-0325b052ada9",
   "metadata": {},
   "outputs": [
    {
     "data": {
      "text/plain": [
       "12074"
      ]
     },
     "execution_count": 9,
     "metadata": {},
     "output_type": "execute_result"
    }
   ],
   "source": [
    "len(df)"
   ]
  },
  {
   "cell_type": "code",
   "execution_count": 10,
   "id": "5c58d533-d356-4d9c-94b6-b717215a0229",
   "metadata": {},
   "outputs": [
    {
     "data": {
      "text/plain": [
       "['org.apache.maven.artifact.factory.DefaultArtifactFactory.createArtifact org.apache.maven.artifact.versioning.VersionRange.createFromVersion\\n',\n",
       " 'org.apache.maven.artifact.factory.DefaultArtifactFactory.createArtifact org.apache.maven.artifact.handler.manager.ArtifactHandlerManager.getArtifactHandler\\n',\n",
       " 'org.apache.maven.artifact.repository.DefaultRepositoryRequest.getRepositoryRequest org.apache.maven.artifact.repository.RepositoryRequest.setLocalRepository\\n']"
      ]
     },
     "execution_count": 10,
     "metadata": {},
     "output_type": "execute_result"
    }
   ],
   "source": [
    "df[0:3]"
   ]
  },
  {
   "cell_type": "code",
   "execution_count": 11,
   "id": "a0d6a343-924c-4c14-9769-0affb069767d",
   "metadata": {},
   "outputs": [],
   "source": [
    "lst = []\n",
    "lst.append(\"a.b c.dsf.dd\")"
   ]
  },
  {
   "cell_type": "code",
   "execution_count": 12,
   "id": "77bac598-264b-418f-bd58-94d745752e51",
   "metadata": {},
   "outputs": [
    {
     "data": {
      "text/plain": [
       "'a.b c.dsf.dd'"
      ]
     },
     "execution_count": 12,
     "metadata": {},
     "output_type": "execute_result"
    }
   ],
   "source": [
    "lst[0]"
   ]
  },
  {
   "cell_type": "code",
   "execution_count": 13,
   "id": "14f3651a-f660-41e7-85bd-ae249253bdd0",
   "metadata": {},
   "outputs": [],
   "source": [
    "dn = '(\\w\\n ,'"
   ]
  },
  {
   "cell_type": "code",
   "execution_count": 14,
   "id": "3546b0e6-0316-4c0b-a99e-dd0706d0bdcc",
   "metadata": {},
   "outputs": [
    {
     "data": {
      "text/plain": [
       "'org.apache.maven.artifact.factory.DefaultArtifactFactory.createArtifact org.apache.maven.artifact.versioning.VersionRange.createFromVersion\\n'"
      ]
     },
     "execution_count": 14,
     "metadata": {},
     "output_type": "execute_result"
    }
   ],
   "source": [
    "df[0]"
   ]
  },
  {
   "cell_type": "code",
   "execution_count": 15,
   "id": "3b1c5e9b-d986-4914-b5f9-9cf6e374f8c7",
   "metadata": {},
   "outputs": [
    {
     "data": {
      "text/plain": [
       "['org.apache.maven.artifact.factory.DefaultArtifactFactory.createArtifact',\n",
       " 'org.apache.maven.artifact.versioning.VersionRange.createFromVersion']"
      ]
     },
     "execution_count": 15,
     "metadata": {},
     "output_type": "execute_result"
    }
   ],
   "source": [
    "# spilliting\n",
    "x = df[0].split()\n",
    "x"
   ]
  },
  {
   "cell_type": "code",
   "execution_count": 16,
   "id": "42021146-440a-4ada-8e1f-66fc8747536a",
   "metadata": {},
   "outputs": [],
   "source": [
    "pattern1 = r'\\w*\\s*\\w+(?=\\.)'\n",
    "pattern2 = '(?<=\\.)\\w*\\s*\\w+$'\n",
    "ptrn = [pattern1, pattern2]\n",
    "ptn = re.compile(r'(?<=\\.)\\w*\\s*\\w+$')"
   ]
  },
  {
   "cell_type": "code",
   "execution_count": 17,
   "id": "7a138475-23fb-449d-b313-6ea2a3efc9e7",
   "metadata": {},
   "outputs": [
    {
     "data": {
      "text/plain": [
       "['org',\n",
       " 'apache',\n",
       " 'maven',\n",
       " 'artifact',\n",
       " 'factory',\n",
       " 'DefaultArtifactFactory',\n",
       " 'createArtifact']"
      ]
     },
     "execution_count": 17,
     "metadata": {},
     "output_type": "execute_result"
    }
   ],
   "source": [
    "matches = []\n",
    "for pat in ptrn:\n",
    "    matches += re.findall(pat, x[0])\n",
    "    \n",
    "matches"
   ]
  },
  {
   "cell_type": "code",
   "execution_count": 18,
   "id": "7ef87a3a-f7bf-4f84-9337-4b6746423128",
   "metadata": {},
   "outputs": [
    {
     "data": {
      "text/plain": [
       "['org',\n",
       " 'apache',\n",
       " 'maven',\n",
       " 'artifact',\n",
       " 'factory',\n",
       " 'DefaultArtifactFactory',\n",
       " 'createArtifact']"
      ]
     },
     "execution_count": 18,
     "metadata": {},
     "output_type": "execute_result"
    }
   ],
   "source": [
    "# re.findall('(%s|%s)' % (pattern1,pattern2), x[0] )\n",
    "re.compile(\"(%s|%s)\" % (pattern1, pattern2)).findall(x[0])\n"
   ]
  },
  {
   "cell_type": "code",
   "execution_count": 19,
   "id": "09520636-8e07-4bfb-b60c-6b41c70fe277",
   "metadata": {},
   "outputs": [
    {
     "data": {
      "text/plain": [
       "['org',\n",
       " 'apache',\n",
       " 'maven',\n",
       " 'artifact',\n",
       " 'factory',\n",
       " 'DefaultArtifactFactory',\n",
       " 'createArtifact']"
      ]
     },
     "execution_count": 19,
     "metadata": {},
     "output_type": "execute_result"
    }
   ],
   "source": [
    "# split using regex\n",
    "re.split(r\"\\.\", x[0])"
   ]
  },
  {
   "cell_type": "code",
   "execution_count": 20,
   "id": "643888a3-d2ec-41b2-93ec-1b76d6f30b1a",
   "metadata": {},
   "outputs": [
    {
     "data": {
      "text/plain": [
       "24148"
      ]
     },
     "execution_count": 20,
     "metadata": {},
     "output_type": "execute_result"
    }
   ],
   "source": [
    "count = 0\n",
    "for i in df:\n",
    "    count = count + 1\n",
    "count*2"
   ]
  },
  {
   "cell_type": "code",
   "execution_count": 21,
   "id": "cde8e0bb-d2a2-4ca5-bfd7-ad1f3c32baa0",
   "metadata": {},
   "outputs": [],
   "source": [
    "lst = []\n",
    "count = 0\n",
    "for combined in df:\n",
    "    comb = combined.split()\n",
    "    \n",
    "    for sentence in comb:\n",
    "        lst += re.compile('(%s|%s)' % (pattern1, pattern2)).findall(sentence)\n",
    "        count = count + 1\n",
    "        "
   ]
  },
  {
   "cell_type": "code",
   "execution_count": 22,
   "id": "00fa7450-995e-4700-8c30-c7cfdea4507f",
   "metadata": {},
   "outputs": [
    {
     "data": {
      "text/plain": [
       "(154390, 24148)"
      ]
     },
     "execution_count": 22,
     "metadata": {},
     "output_type": "execute_result"
    }
   ],
   "source": [
    "len(lst), count"
   ]
  },
  {
   "cell_type": "code",
   "execution_count": 23,
   "id": "1ba36166-c0ff-40af-80c4-182293e86cca",
   "metadata": {},
   "outputs": [
    {
     "name": "stdout",
     "output_type": "stream",
     "text": [
      "['org', 'apache', 'maven', 'artifact', 'factory', 'DefaultArtifactFactory', 'createArtifact', 'org', 'apache', 'maven', 'artifact', 'versioning', 'VersionRange', 'createFromVersion', 'org']\n"
     ]
    }
   ],
   "source": [
    "print(lst[0:15])"
   ]
  },
  {
   "cell_type": "code",
   "execution_count": 24,
   "id": "f2311cc4-0b01-44ee-bab1-2be4815ca8c6",
   "metadata": {},
   "outputs": [],
   "source": [
    "lst = list(set(lst))"
   ]
  },
  {
   "cell_type": "code",
   "execution_count": 25,
   "id": "6c9bffc1-e063-48a5-9a62-c84a8dfa7886",
   "metadata": {},
   "outputs": [],
   "source": [
    "# lst"
   ]
  },
  {
   "cell_type": "code",
   "execution_count": 26,
   "id": "b43baba0-1317-4f5e-9d45-7fb3f8de3bd6",
   "metadata": {},
   "outputs": [],
   "source": [
    "# we have to make a list of list \n",
    "splitted_df = []\n",
    "\n",
    "for i in df:\n",
    "    comb = i.split()\n",
    "    for sp in comb:\n",
    "        splitted_df.append(sp)\n",
    "    "
   ]
  },
  {
   "cell_type": "code",
   "execution_count": 27,
   "id": "72aad775-1be9-4933-a1ac-33f679280abd",
   "metadata": {},
   "outputs": [
    {
     "data": {
      "text/plain": [
       "24148"
      ]
     },
     "execution_count": 27,
     "metadata": {},
     "output_type": "execute_result"
    }
   ],
   "source": [
    "len(splitted_df)"
   ]
  },
  {
   "cell_type": "code",
   "execution_count": 28,
   "id": "ea4116ad-1e23-4d55-b061-17f20cef04d6",
   "metadata": {},
   "outputs": [
    {
     "name": "stdout",
     "output_type": "stream",
     "text": [
      "['org', 'apache', 'maven', 'artifact', 'factory', 'DefaultArtifactFactory', 'createArtifact']\n"
     ]
    }
   ],
   "source": [
    "matrix = []\n",
    "for call in splitted_df:\n",
    "    call_break = re.split(r'\\.', call)\n",
    "    print(call_break)\n",
    "    ans = []\n",
    "    for word in lst:\n",
    "        if word in call_break:\n",
    "            ans.append(1)\n",
    "        else:\n",
    "            ans.append(0)\n",
    "    \n",
    "    matrix.append(ans)\n",
    "    break"
   ]
  },
  {
   "cell_type": "code",
   "execution_count": 29,
   "id": "90904f26-cc44-4051-8db5-5fe3b730a26c",
   "metadata": {},
   "outputs": [
    {
     "name": "stdout",
     "output_type": "stream",
     "text": [
      "True\n"
     ]
    }
   ],
   "source": [
    "count = 0\n",
    "for i in matrix[0]:\n",
    "    if(i == 1):\n",
    "        count = count+1\n",
    "\n",
    "# check if size is same of not\n",
    "# size of first call break = 7\n",
    "print(count == 7)"
   ]
  },
  {
   "cell_type": "code",
   "execution_count": 30,
   "id": "9b7460a2-df91-4a5b-b783-7a9b54a7126b",
   "metadata": {},
   "outputs": [
    {
     "name": "stderr",
     "output_type": "stream",
     "text": [
      "100%|██████████| 24148/24148 [00:08<00:00, 2995.56it/s]"
     ]
    },
    {
     "name": "stdout",
     "output_type": "stream",
     "text": [
      "done!!!!!!\n"
     ]
    },
    {
     "name": "stderr",
     "output_type": "stream",
     "text": [
      "\n"
     ]
    }
   ],
   "source": [
    "matrix = []\n",
    "with tqdm.tqdm(total=len(splitted_df)) as t:\n",
    "    for call in splitted_df:\n",
    "        call_break = re.split(r'\\.', call)\n",
    "        ans = []\n",
    "        for word in lst:\n",
    "            if word in call_break:\n",
    "                ans.append(1)\n",
    "            else:\n",
    "                ans.append(0)\n",
    "\n",
    "        matrix.append(ans)\n",
    "        t.update(1)\n",
    "\n",
    "print(\"done!!!!!!\")"
   ]
  },
  {
   "cell_type": "code",
   "execution_count": 31,
   "id": "047de69f-82ad-4e0b-b1ce-d744f1d1f115",
   "metadata": {},
   "outputs": [
    {
     "data": {
      "text/plain": [
       "24148"
      ]
     },
     "execution_count": 31,
     "metadata": {},
     "output_type": "execute_result"
    }
   ],
   "source": [
    "len(matrix)"
   ]
  },
  {
   "cell_type": "code",
   "execution_count": 32,
   "id": "5672f65d-daca-4d52-bad0-79cd544f19c8",
   "metadata": {},
   "outputs": [
    {
     "data": {
      "text/plain": [
       "(856, 856)"
      ]
     },
     "execution_count": 32,
     "metadata": {},
     "output_type": "execute_result"
    }
   ],
   "source": [
    "len(matrix[0]), len(matrix[24140])"
   ]
  },
  {
   "cell_type": "code",
   "execution_count": 33,
   "id": "2a2871e1-9df9-4288-aa95-8f2a15b4c0f8",
   "metadata": {},
   "outputs": [
    {
     "data": {
      "text/plain": [
       "numpy.ndarray"
      ]
     },
     "execution_count": 33,
     "metadata": {},
     "output_type": "execute_result"
    }
   ],
   "source": [
    "# convert list to np.array\n",
    "# cool code\n",
    "# length = max(map(len, x))\n",
    "# y=numpy.array([xi+[None]*(length-len(xi)) for xi in x])\n",
    "\n",
    "matrix_array = numpy.array([numpy.array(xi) for xi in matrix])\n",
    "type(matrix_array)"
   ]
  },
  {
   "cell_type": "code",
   "execution_count": 34,
   "id": "44794b4e-7f81-4512-94d9-262612891b92",
   "metadata": {},
   "outputs": [
    {
     "data": {
      "text/plain": [
       "(array([[0, 0, 0, ..., 0, 0, 0],\n",
       "        [0, 0, 0, ..., 0, 0, 0],\n",
       "        [0, 0, 0, ..., 0, 0, 0],\n",
       "        ...,\n",
       "        [0, 0, 0, ..., 0, 0, 0],\n",
       "        [0, 0, 0, ..., 0, 0, 0],\n",
       "        [0, 0, 0, ..., 0, 0, 0]]),\n",
       " numpy.ndarray)"
      ]
     },
     "execution_count": 34,
     "metadata": {},
     "output_type": "execute_result"
    }
   ],
   "source": [
    "matrix_array, type(matrix_array[0])"
   ]
  },
  {
   "cell_type": "code",
   "execution_count": 35,
   "id": "be994453-522d-4c6f-a0bb-0d1ca6cb4246",
   "metadata": {},
   "outputs": [],
   "source": [
    "# convert this node feature matrix to tensor\n",
    "# node_feature_tensor = torch.tensor(matrix_array, dtype = torch.float64)"
   ]
  },
  {
   "cell_type": "code",
   "execution_count": 36,
   "id": "e4665887-6d94-4e6c-93d9-3b4e7c107e23",
   "metadata": {},
   "outputs": [],
   "source": [
    "# This is for COO FORMAT"
   ]
  },
  {
   "cell_type": "code",
   "execution_count": 37,
   "id": "fdcca28a-2420-44a0-aa7d-f2f51215719a",
   "metadata": {},
   "outputs": [],
   "source": [
    "# node_feature_coo = coo_matrix(matrix_array)  "
   ]
  },
  {
   "cell_type": "code",
   "execution_count": 38,
   "id": "898cfe14-ca43-4e18-a5c1-4b4e5b51b299",
   "metadata": {},
   "outputs": [
    {
     "data": {
      "text/plain": [
       "0.007525236765424249"
      ]
     },
     "execution_count": 38,
     "metadata": {},
     "output_type": "execute_result"
    }
   ],
   "source": [
    "# 1/0 ratio\n",
    "count = 0\n",
    "cnt = 0\n",
    "for i in matrix_array: \n",
    "    for idx in i: \n",
    "        if(idx == 1):\n",
    "            count = count + 1\n",
    "        if(idx == 0):\n",
    "            cnt = cnt + 1\n",
    "\n",
    "count/cnt"
   ]
  },
  {
   "cell_type": "code",
   "execution_count": 39,
   "id": "e2774096-34e5-4979-93b6-8197e9d6c809",
   "metadata": {},
   "outputs": [
    {
     "data": {
      "text/plain": [
       "array([[0, 0, 0, ..., 0, 0, 0],\n",
       "       [0, 0, 0, ..., 0, 0, 0],\n",
       "       [0, 0, 0, ..., 0, 0, 0],\n",
       "       ...,\n",
       "       [0, 0, 0, ..., 0, 0, 0],\n",
       "       [0, 0, 0, ..., 0, 0, 0],\n",
       "       [0, 0, 0, ..., 0, 0, 0]])"
      ]
     },
     "execution_count": 39,
     "metadata": {},
     "output_type": "execute_result"
    }
   ],
   "source": [
    "# THIS IS FINAL MATRIX IT'S NP ARRAY OF NP ARRAY\n",
    "# each row for each corrosponding row in database\n",
    "matrix_array"
   ]
  },
  {
   "cell_type": "code",
   "execution_count": 40,
   "id": "33b53e8d-08c2-421b-bd56-b7ccc170ee29",
   "metadata": {},
   "outputs": [],
   "source": [
    "from matplotlib import transforms\n",
    "import networkx as nx\n",
    "import numpy as np\n",
    "import pandas as pd\n",
    "import os\n",
    "import sys\n",
    "from glob import glob\n",
    "import torch\n",
    "from torch_geometric.nn import GCNConv\n",
    "import os.path as osp\n",
    "from torch_geometric.data import Dataset, Data\n",
    "from torch_geometric.utils import train_test_split_edges\n",
    "from torch_geometric.loader import DataLoader\n",
    "from torch_geometric.utils import negative_sampling\n",
    "from sklearn.metrics import roc_auc_score\n",
    "import torch_geometric.transforms as T"
   ]
  },
  {
   "cell_type": "code",
   "execution_count": 44,
   "id": "abe52b1d",
   "metadata": {},
   "outputs": [],
   "source": [
    "os.chdir(\"../\")"
   ]
  },
  {
   "cell_type": "code",
   "execution_count": 45,
   "id": "458c1988",
   "metadata": {},
   "outputs": [
    {
     "data": {
      "text/plain": [
       "'/home/guru/Desktop/GNN-Call-Graphs'"
      ]
     },
     "execution_count": 45,
     "metadata": {},
     "output_type": "execute_result"
    }
   ],
   "source": [
    "os.getcwd()"
   ]
  },
  {
   "cell_type": "code",
   "execution_count": 46,
   "id": "007855bb",
   "metadata": {},
   "outputs": [
    {
     "name": "stdout",
     "output_type": "stream",
     "text": [
      "Epoch: 001, Loss: 13.2362, Val: 0.8302, Test: 0.8667\n",
      "Epoch: 002, Loss: 3.8172, Val: 0.8147, Test: 0.8775\n",
      "Epoch: 003, Loss: 3.3520, Val: 0.8403, Test: 0.8803\n",
      "Epoch: 004, Loss: 4.2063, Val: 0.8679, Test: 0.8799\n",
      "Epoch: 005, Loss: 3.8219, Val: 0.8651, Test: 0.8849\n",
      "Epoch: 006, Loss: 2.7308, Val: 0.8325, Test: 0.8863\n",
      "Epoch: 007, Loss: 1.6367, Val: 0.7985, Test: 0.8686\n",
      "Epoch: 008, Loss: 1.3106, Val: 0.7960, Test: 0.8736\n",
      "Epoch: 009, Loss: 1.3712, Val: 0.7933, Test: 0.8744\n",
      "Epoch: 010, Loss: 1.5049, Val: 0.7898, Test: 0.8712\n",
      "Epoch: 011, Loss: 1.3687, Val: 0.7880, Test: 0.8582\n",
      "Epoch: 012, Loss: 1.3473, Val: 0.7848, Test: 0.8439\n",
      "Epoch: 013, Loss: 1.1388, Val: 0.7684, Test: 0.8437\n",
      "Epoch: 014, Loss: 1.0572, Val: 0.7700, Test: 0.8376\n",
      "Epoch: 015, Loss: 0.9695, Val: 0.7700, Test: 0.8451\n",
      "Epoch: 016, Loss: 0.8589, Val: 0.7850, Test: 0.8456\n",
      "Epoch: 017, Loss: 0.8613, Val: 0.7860, Test: 0.8581\n",
      "Epoch: 018, Loss: 0.8395, Val: 0.7827, Test: 0.8591\n",
      "Epoch: 019, Loss: 0.7916, Val: 0.7994, Test: 0.8602\n",
      "Epoch: 020, Loss: 0.7998, Val: 0.8035, Test: 0.8581\n",
      "Epoch: 021, Loss: 0.7657, Val: 0.8046, Test: 0.8575\n",
      "Epoch: 022, Loss: 0.7351, Val: 0.8099, Test: 0.8555\n",
      "Epoch: 023, Loss: 0.7214, Val: 0.8120, Test: 0.8639\n",
      "Epoch: 024, Loss: 0.7305, Val: 0.8152, Test: 0.8697\n",
      "Epoch: 025, Loss: 0.7124, Val: 0.8209, Test: 0.8730\n",
      "Epoch: 026, Loss: 0.6971, Val: 0.8263, Test: 0.8756\n",
      "Epoch: 027, Loss: 0.7018, Val: 0.8295, Test: 0.8770\n",
      "Epoch: 028, Loss: 0.6781, Val: 0.8359, Test: 0.8785\n",
      "Epoch: 029, Loss: 0.6778, Val: 0.8398, Test: 0.8785\n",
      "Epoch: 030, Loss: 0.6655, Val: 0.8387, Test: 0.8787\n",
      "Epoch: 031, Loss: 0.6681, Val: 0.8373, Test: 0.8784\n",
      "Epoch: 032, Loss: 0.6581, Val: 0.8345, Test: 0.8776\n",
      "Epoch: 033, Loss: 0.6647, Val: 0.8270, Test: 0.8768\n",
      "Epoch: 034, Loss: 0.6654, Val: 0.8192, Test: 0.8695\n",
      "Epoch: 035, Loss: 0.6553, Val: 0.8074, Test: 0.8570\n",
      "Epoch: 036, Loss: 0.6697, Val: 0.7992, Test: 0.8485\n",
      "Epoch: 037, Loss: 0.6613, Val: 0.7939, Test: 0.8408\n",
      "Epoch: 038, Loss: 0.6530, Val: 0.7803, Test: 0.8336\n",
      "Epoch: 039, Loss: 0.6497, Val: 0.7764, Test: 0.8290\n",
      "Epoch: 040, Loss: 0.6464, Val: 0.7750, Test: 0.8156\n",
      "Epoch: 041, Loss: 0.6370, Val: 0.7665, Test: 0.8150\n",
      "Epoch: 042, Loss: 0.6367, Val: 0.7672, Test: 0.8058\n",
      "Epoch: 043, Loss: 0.6384, Val: 0.7672, Test: 0.8029\n",
      "Epoch: 044, Loss: 0.6444, Val: 0.7661, Test: 0.8035\n",
      "Epoch: 045, Loss: 0.6415, Val: 0.7629, Test: 0.8035\n",
      "Epoch: 046, Loss: 0.6369, Val: 0.7561, Test: 0.8035\n",
      "Epoch: 047, Loss: 0.6419, Val: 0.7533, Test: 0.8040\n",
      "Epoch: 048, Loss: 0.6455, Val: 0.7504, Test: 0.7981\n",
      "Epoch: 049, Loss: 0.6425, Val: 0.7358, Test: 0.7837\n",
      "Epoch: 050, Loss: 0.6367, Val: 0.7287, Test: 0.7847\n",
      "Epoch: 051, Loss: 0.6380, Val: 0.7323, Test: 0.7737\n",
      "Epoch: 052, Loss: 0.6366, Val: 0.7337, Test: 0.7747\n",
      "Epoch: 053, Loss: 0.6359, Val: 0.7369, Test: 0.7831\n",
      "Epoch: 054, Loss: 0.6336, Val: 0.7394, Test: 0.7794\n",
      "Epoch: 055, Loss: 0.6290, Val: 0.7419, Test: 0.7709\n",
      "Epoch: 056, Loss: 0.6308, Val: 0.7451, Test: 0.7699\n",
      "Epoch: 057, Loss: 0.6261, Val: 0.7480, Test: 0.7710\n",
      "Epoch: 058, Loss: 0.6379, Val: 0.7519, Test: 0.7742\n",
      "Epoch: 059, Loss: 0.6310, Val: 0.7540, Test: 0.7747\n",
      "Epoch: 060, Loss: 0.6261, Val: 0.7522, Test: 0.7754\n",
      "Epoch: 061, Loss: 0.6267, Val: 0.7519, Test: 0.7788\n",
      "Epoch: 062, Loss: 0.6398, Val: 0.7430, Test: 0.7630\n",
      "Epoch: 063, Loss: 0.6242, Val: 0.7380, Test: 0.7616\n",
      "Epoch: 064, Loss: 0.6241, Val: 0.7273, Test: 0.7515\n",
      "Epoch: 065, Loss: 0.6243, Val: 0.7209, Test: 0.7481\n",
      "Epoch: 066, Loss: 0.6210, Val: 0.7170, Test: 0.7478\n",
      "Epoch: 067, Loss: 0.6276, Val: 0.7184, Test: 0.7482\n",
      "Epoch: 068, Loss: 0.6313, Val: 0.7116, Test: 0.7480\n",
      "Epoch: 069, Loss: 0.6228, Val: 0.7077, Test: 0.7523\n",
      "Epoch: 070, Loss: 0.6248, Val: 0.7074, Test: 0.7422\n",
      "Epoch: 071, Loss: 0.6263, Val: 0.7045, Test: 0.7466\n",
      "Epoch: 072, Loss: 0.6269, Val: 0.6995, Test: 0.7451\n",
      "Epoch: 073, Loss: 0.6458, Val: 0.6921, Test: 0.7388\n",
      "Epoch: 074, Loss: 0.6268, Val: 0.6899, Test: 0.7322\n",
      "Epoch: 075, Loss: 0.6307, Val: 0.6967, Test: 0.7331\n",
      "Epoch: 076, Loss: 0.6311, Val: 0.6988, Test: 0.7404\n",
      "Epoch: 077, Loss: 0.6323, Val: 0.6999, Test: 0.7440\n",
      "Epoch: 078, Loss: 0.6250, Val: 0.7013, Test: 0.7461\n",
      "Epoch: 079, Loss: 0.6318, Val: 0.7102, Test: 0.7466\n",
      "Epoch: 080, Loss: 0.6317, Val: 0.7159, Test: 0.7482\n",
      "Epoch: 081, Loss: 0.6307, Val: 0.7220, Test: 0.7571\n",
      "Epoch: 082, Loss: 0.6223, Val: 0.7248, Test: 0.7615\n",
      "Epoch: 083, Loss: 0.6407, Val: 0.7237, Test: 0.7615\n",
      "Epoch: 084, Loss: 0.6316, Val: 0.7205, Test: 0.7618\n",
      "Epoch: 085, Loss: 0.6253, Val: 0.7198, Test: 0.7619\n",
      "Epoch: 086, Loss: 0.6299, Val: 0.7195, Test: 0.7622\n",
      "Epoch: 087, Loss: 0.6296, Val: 0.7273, Test: 0.7725\n",
      "Epoch: 088, Loss: 0.6366, Val: 0.7369, Test: 0.7758\n",
      "Epoch: 089, Loss: 0.6260, Val: 0.7401, Test: 0.7761\n",
      "Epoch: 090, Loss: 0.6301, Val: 0.7444, Test: 0.7768\n",
      "Epoch: 091, Loss: 0.6316, Val: 0.7440, Test: 0.7761\n",
      "Epoch: 092, Loss: 0.6311, Val: 0.7302, Test: 0.7657\n",
      "Epoch: 093, Loss: 0.6255, Val: 0.7237, Test: 0.7513\n",
      "Epoch: 094, Loss: 0.6399, Val: 0.7141, Test: 0.7397\n",
      "Epoch: 095, Loss: 0.6271, Val: 0.7024, Test: 0.7358\n",
      "Epoch: 096, Loss: 0.6284, Val: 0.7031, Test: 0.7389\n",
      "Epoch: 097, Loss: 0.6371, Val: 0.7045, Test: 0.7491\n",
      "Epoch: 098, Loss: 0.6240, Val: 0.7102, Test: 0.7520\n",
      "Epoch: 099, Loss: 0.6268, Val: 0.7198, Test: 0.7649\n",
      "Epoch: 100, Loss: 0.6286, Val: 0.7248, Test: 0.7695\n",
      "Final Test: 0.8799\n"
     ]
    }
   ],
   "source": [
    "device = \"cpu\"\n",
    "\n",
    "root = \"Dataset/callNetwork\"\n",
    "\n",
    "\n",
    "class CallNetworks(Dataset):\n",
    "    def __init__(self, root, tranform=None, pre_transform=None, pre_filter=None):\n",
    "        super().__init__(root, tranform, pre_transform, pre_filter)\n",
    "    @property\n",
    "    def raw_file_names(self):\n",
    "        files = os.listdir(self.root+\"/raw\")\n",
    "        return files\n",
    "    @property\n",
    "    def processed_file_names(self):\n",
    "        processed_files = [f\"data_{i}.pt\" for i in range(len(self.raw_file_names))]\n",
    "        return processed_files\n",
    "    def process(self):\n",
    "        index = 0\n",
    "        for raw_path in self.raw_paths:\n",
    "            print(raw_path)\n",
    "            temp = list(np.unique(pd.read_csv(raw_path, delimiter=\" \").values.reshape((1,-1))))\n",
    "            G = nx.read_edgelist(raw_path, delimiter=\" \",create_using = nx.Graph)\n",
    "            # print(G.nodes)\n",
    "            # print(temp)\n",
    "            tmp_nodes = list(G.nodes)\n",
    "            for i in temp:\n",
    "                if i not in tmp_nodes:\n",
    "                    G.add_node((i))\n",
    "            x = torch.zeros((len(G.nodes), 5))\n",
    "            edge_index = torch.from_numpy(pd.read_csv(raw_path, delimiter=\" \").values).reshape((2,-1))\n",
    "            for i, key in enumerate(dict(G.nodes).keys()):\n",
    "                for j in range(matrix.shape[1]):\n",
    "                    x[i,j] = matrix[i,j]\n",
    "            data = Data(x=x, edge_index=edge_index)\n",
    "            torch.save(data, osp.join(self.processed_dir,f\"data_{index}.pt\"))\n",
    "            index += 1\n",
    "    def len(self):\n",
    "        return len(self.processed_file_names)\n",
    "    def get(self, idx):\n",
    "        data = torch.load(osp.join(self.processed_dir, f\"data_{idx}.pt\"))\n",
    "        return data\n",
    "\n",
    "transform = T.RandomLinkSplit(num_val=0.05, num_test=0.1,is_undirected=True, add_negative_train_samples=True)\n",
    "dataset = CallNetworks(root=root)\n",
    "train_data, val_data, test_data = transform(dataset[0])\n",
    "\n",
    "\n",
    "class Net(torch.nn.Module):\n",
    "    def __init__(self, in_channels, hidden_channels, out_channels):\n",
    "        super().__init__()\n",
    "        self.conv1 = GCNConv(in_channels, hidden_channels)\n",
    "        self.conv2 = GCNConv(hidden_channels, out_channels)\n",
    "\n",
    "    def encode(self, x, edge_index):\n",
    "        x = self.conv1(x, edge_index)#.relu()\n",
    "        return self.conv2(x, edge_index)\n",
    "\n",
    "    def decode(self, z, edge_label_index):\n",
    "        return (z[edge_label_index[0]] * z[edge_label_index[1]]).sum(dim=-1)\n",
    "\n",
    "    def decode_all(self, z):\n",
    "        prob_adj = z @ z.t()\n",
    "        return (prob_adj > 0).nonzero(as_tuple=False).t()\n",
    "\n",
    "\n",
    "model = Net(dataset.num_features, 128, 64).to(device)\n",
    "optimizer = torch.optim.Adam(params=model.parameters(), lr=0.01)\n",
    "criterion = torch.nn.BCEWithLogitsLoss()\n",
    "\n",
    "\n",
    "def train():\n",
    "    model.train()\n",
    "    optimizer.zero_grad()\n",
    "    z = model.encode(train_data.x, train_data.edge_index)\n",
    "\n",
    "    # We perform a new round of negative sampling for every training epoch:\n",
    "    neg_edge_index = negative_sampling(\n",
    "        edge_index=train_data.edge_index, num_nodes=train_data.num_nodes,\n",
    "        num_neg_samples=train_data.edge_label_index.size(1), method='sparse')\n",
    "\n",
    "    edge_label_index = torch.cat(\n",
    "        [train_data.edge_label_index, neg_edge_index],\n",
    "        dim=-1,\n",
    "    )\n",
    "    edge_label = torch.cat([\n",
    "        train_data.edge_label,\n",
    "        train_data.edge_label.new_zeros(neg_edge_index.size(1))\n",
    "    ], dim=0)\n",
    "\n",
    "    out = model.decode(z, edge_label_index).view(-1)\n",
    "    loss = criterion(out, edge_label)\n",
    "    loss.backward()\n",
    "    optimizer.step()\n",
    "    return loss\n",
    "\n",
    "\n",
    "@torch.no_grad()\n",
    "def test(data):\n",
    "    model.eval()\n",
    "    z = model.encode(data.x, data.edge_index)\n",
    "    out = model.decode(z, data.edge_label_index).view(-1).sigmoid()\n",
    "    return roc_auc_score(data.edge_label.cpu().numpy(), out.cpu().numpy())\n",
    "\n",
    "\n",
    "best_val_auc = final_test_auc = 0\n",
    "for epoch in range(1, 101):\n",
    "    loss = train()\n",
    "    val_auc = test(val_data)\n",
    "    test_auc = test(test_data)\n",
    "    if val_auc > best_val_auc:\n",
    "        best_val_auc = val_auc\n",
    "        final_test_auc = test_auc\n",
    "    print(f'Epoch: {epoch:03d}, Loss: {loss:.4f}, Val: {val_auc:.4f}, '\n",
    "          f'Test: {test_auc:.4f}')\n",
    "\n",
    "print(f'Final Test: {final_test_auc:.4f}')\n",
    "\n",
    "z = model.encode(test_data.x, test_data.edge_index)\n",
    "final_edge_index = model.decode_all(z)\n"
   ]
  },
  {
   "cell_type": "code",
   "execution_count": null,
   "id": "4fe3ab65",
   "metadata": {},
   "outputs": [],
   "source": []
  },
  {
   "cell_type": "code",
   "execution_count": null,
   "id": "a9a1a211",
   "metadata": {},
   "outputs": [],
   "source": []
  }
 ],
 "metadata": {
  "kernelspec": {
   "display_name": "GNN-Call-Graphs",
   "language": "python",
   "name": "python3"
  },
  "language_info": {
   "codemirror_mode": {
    "name": "ipython",
    "version": 3
   },
   "file_extension": ".py",
   "mimetype": "text/x-python",
   "name": "python",
   "nbconvert_exporter": "python",
   "pygments_lexer": "ipython3",
   "version": "3.8.15"
  },
  "vscode": {
   "interpreter": {
    "hash": "6c7d1939fa9bdace8a60754ac5dcb8643a9ea1f7b0f9e9d965a3c5836f1166b0"
   }
  }
 },
 "nbformat": 4,
 "nbformat_minor": 5
}
